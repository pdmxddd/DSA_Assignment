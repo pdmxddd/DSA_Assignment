{
  "nbformat": 4,
  "nbformat_minor": 0,
  "metadata": {
    "colab": {
      "provenance": [],
      "authorship_tag": "ABX9TyM+lJfLxXmq5XoPHGk1V/NM",
      "include_colab_link": true
    },
    "kernelspec": {
      "name": "python3",
      "display_name": "Python 3"
    },
    "language_info": {
      "name": "python"
    }
  },
  "cells": [
    {
      "cell_type": "markdown",
      "metadata": {
        "id": "view-in-github",
        "colab_type": "text"
      },
      "source": [
        "<a href=\"https://colab.research.google.com/github/pdmxddd/DSA_Assignment/blob/main/SANATH.ipynb\" target=\"_parent\"><img src=\"https://colab.research.google.com/assets/colab-badge.svg\" alt=\"Open In Colab\"/></a>"
      ]
    },
    {
      "cell_type": "code",
      "execution_count": 3,
      "metadata": {
        "colab": {
          "base_uri": "https://localhost:8080/"
        },
        "id": "ihVdZ5mCUSt3",
        "outputId": "adb9feb0-7634-4ded-d016-1c01d4c173c2"
      },
      "outputs": [
        {
          "output_type": "stream",
          "name": "stdout",
          "text": [
            "Month                             0\n",
            "Region                            0\n",
            "Manager                           0\n",
            "Sales_before_digital_add(in $)    0\n",
            "Sales_After_digital_add(in $)     0\n",
            "dtype: int64\n"
          ]
        },
        {
          "output_type": "execute_result",
          "data": {
            "text/plain": [
              "Index(['Month', 'Region', 'Manager', 'Sales_before_digital_add(in $)',\n",
              "       'Sales_After_digital_add(in $)'],\n",
              "      dtype='object')"
            ]
          },
          "metadata": {},
          "execution_count": 3
        }
      ],
      "source": [
        "import pandas as pd\n",
        "import numpy as np\n",
        "import scipy.stats as stats\n",
        "data = pd.read_csv('Sales_add.csv')\n",
        "print(data.isnull().sum())\n",
        "data.columns"
      ]
    },
    {
      "cell_type": "markdown",
      "source": [
        "The company needs to check whether there is any dependency between the features “Region” and “Manager”.\n"
      ],
      "metadata": {
        "id": "8BVYth6sUpvO"
      }
    },
    {
      "cell_type": "code",
      "source": [
        "cont_table = pd.crosstab(data['Region'], data['Manager'])\n",
        "chi2, p_val, dof, exp_freq = stats.chi2_contingency(cont_table)\n",
        "if p_val < 0.05:\n",
        "    print(\"There is a significant association between Region and Manager.\")\n",
        "else:\n",
        "    print(\"There is no significant association between Region and Manager.\")"
      ],
      "metadata": {
        "colab": {
          "base_uri": "https://localhost:8080/"
        },
        "id": "Qgklpi10UfFI",
        "outputId": "763929da-7d0d-4d1b-eb61-ee590dc6b5c8"
      },
      "execution_count": 4,
      "outputs": [
        {
          "output_type": "stream",
          "name": "stdout",
          "text": [
            "There is no significant association between Region and Manager.\n"
          ]
        }
      ]
    },
    {
      "cell_type": "markdown",
      "source": [
        "The company wishes to clarify whether there is any increase in sales after\n",
        "stepping into digital marketing."
      ],
      "metadata": {
        "id": "51LE-4lfVOcI"
      }
    },
    {
      "cell_type": "code",
      "source": [
        "t_stat, p_value = ttest_ind(Sales_before_digital_add(in $), Sales_After_digital_add(in $))\n",
        "\n",
        "if p_value < 0.05:\n",
        "    print('There is a statistically significant increase in sales after investing in digital marketing.')\n",
        "else:\n",
        "    print('There is no statistically significant increase in sales after investing in digital marketing.')"
      ],
      "metadata": {
        "colab": {
          "base_uri": "https://localhost:8080/",
          "height": 130
        },
        "id": "tTC7yMAPU-SN",
        "outputId": "3de83f2a-f70d-4779-ccb3-ae8337e5f46d"
      },
      "execution_count": 6,
      "outputs": [
        {
          "output_type": "error",
          "ename": "SyntaxError",
          "evalue": "ignored",
          "traceback": [
            "\u001b[0;36m  File \u001b[0;32m\"<ipython-input-6-8d46de84f7be>\"\u001b[0;36m, line \u001b[0;32m1\u001b[0m\n\u001b[0;31m    t_stat, p_value = ttest_ind(Sales_before_digital_add(in $), Sales_After_digital_add(in $))\u001b[0m\n\u001b[0m                                                         ^\u001b[0m\n\u001b[0;31mSyntaxError\u001b[0m\u001b[0;31m:\u001b[0m invalid syntax\n"
          ]
        }
      ]
    },
    {
      "cell_type": "code",
      "source": [],
      "metadata": {
        "id": "dM_gItaRWAhX"
      },
      "execution_count": null,
      "outputs": []
    }
  ]
}